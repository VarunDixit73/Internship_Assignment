{
 "cells": [
  {
   "cell_type": "code",
   "execution_count": 1,
   "metadata": {},
   "outputs": [],
   "source": [
    "from selenium import webdriver\n",
    "from webdriver_manager.chrome import ChromeDriverManager\n",
    "from selenium.webdriver.common.keys import Keys\n",
    "import pandas as pd\n"
   ]
  },
  {
   "cell_type": "code",
   "execution_count": 2,
   "metadata": {},
   "outputs": [
    {
     "name": "stderr",
     "output_type": "stream",
     "text": [
      "\n",
      "\n",
      "====== WebDriver manager ======\n",
      "Current google-chrome version is 97.0.4692\n",
      "Get LATEST chromedriver version for 97.0.4692 google-chrome\n",
      "Driver [C:\\Users\\varun\\.wdm\\drivers\\chromedriver\\win32\\97.0.4692.71\\chromedriver.exe] found in cache\n",
      "C:\\Users\\varun\\AppData\\Local\\Temp/ipykernel_16200/1503906442.py:1: DeprecationWarning: executable_path has been deprecated, please pass in a Service object\n",
      "  driver = webdriver.Chrome(ChromeDriverManager().install())\n"
     ]
    }
   ],
   "source": [
    "driver = webdriver.Chrome(ChromeDriverManager().install())"
   ]
  },
  {
   "cell_type": "markdown",
   "metadata": {},
   "source": [
    "flipkart scrapper for mobile"
   ]
  },
  {
   "cell_type": "code",
   "execution_count": 3,
   "metadata": {},
   "outputs": [],
   "source": [
    "def get_add(query='mobiles',start=1):\n",
    "    url = 'https://www.flipkart.com/search'\n",
    "    param1 = f'q={query}'\n",
    "    param2 = f'page={start}'\n",
    "    return f'{url}?{param1}&{param2}'"
   ]
  },
  {
   "cell_type": "code",
   "execution_count": 4,
   "metadata": {},
   "outputs": [],
   "source": [
    "driver.get(get_add())"
   ]
  },
  {
   "cell_type": "code",
   "execution_count": 5,
   "metadata": {},
   "outputs": [
    {
     "name": "stderr",
     "output_type": "stream",
     "text": [
      "C:\\Users\\varun\\AppData\\Local\\Temp/ipykernel_16200/1131546215.py:1: DeprecationWarning: find_elements_by_* commands are deprecated. Please use find_elements() instead\n",
      "  headings = driver.find_elements_by_css_selector('div._4rR01T')\n"
     ]
    },
    {
     "name": "stdout",
     "output_type": "stream",
     "text": [
      "REDMI 9i Sport (Coral Green, 64 GB)\n",
      "realme Narzo 50A (Oxygen Green, 64 GB)\n",
      "realme Narzo 50A (Oxygen Blue, 64 GB)\n",
      "REDMI 9i Sport (Metallic Blue, 64 GB)\n",
      "REDMI 9i Sport (Carbon Black, 64 GB)\n",
      "realme Narzo 50A (Oxygen Green, 128 GB)\n",
      "realme Narzo 50A (Oxygen Blue, 128 GB)\n",
      "realme 8i (Space Purple, 64 GB)\n",
      "realme 8i (Space Black, 64 GB)\n",
      "POCO C31 (Shadow Gray, 64 GB)\n",
      "realme 8i (Space Purple, 128 GB)\n",
      "realme 8i (Space Black, 128 GB)\n",
      "realme C21Y (Cross Black, 64 GB)\n",
      "realme C21Y (Cross Blue, 64 GB)\n",
      "realme C21Y (Cross Blue, 32 GB)\n",
      "realme C21Y (Cross Black, 32 GB)\n",
      "APPLE iPhone SE (Black, 128 GB)\n",
      "POCO C31 (Royal Blue, 32 GB)\n",
      "APPLE iPhone SE (White, 128 GB)\n",
      "APPLE iPhone 12 Mini (Black, 64 GB)\n",
      "APPLE iPhone SE (Red, 64 GB)\n",
      "APPLE iPhone SE (White, 64 GB)\n",
      "APPLE iPhone SE (Black, 64 GB)\n",
      "MOTOROLA g31 (Baby Blue, 64 GB)\n"
     ]
    }
   ],
   "source": [
    "headings = driver.find_elements_by_css_selector('div._4rR01T')\n",
    "for h in headings:\n",
    "    print(h.text)"
   ]
  },
  {
   "cell_type": "code",
   "execution_count": 6,
   "metadata": {},
   "outputs": [
    {
     "data": {
      "text/plain": [
       "24"
      ]
     },
     "execution_count": 6,
     "metadata": {},
     "output_type": "execute_result"
    }
   ],
   "source": [
    "len(headings)"
   ]
  },
  {
   "cell_type": "code",
   "execution_count": 7,
   "metadata": {},
   "outputs": [],
   "source": [
    "def extract_data(driver):\n",
    "    data =[]\n",
    "    cards =driver.find_elements_by_css_selector('div._2kHMtA')\n",
    "    if len(cards)>0:\n",
    "        for item in cards:\n",
    "            data.append(dict(\n",
    "                Brand = item.find_element_by_css_selector('div._4rR01T').text,\n",
    "                Specs = item.find_element_by_css_selector('div.fMghEO').text,\n",
    "                Price = item.find_element_by_css_selector('div._30jeq3._1_WHN1').text,\n",
    "            ))\n",
    "    return data"
   ]
  },
  {
   "cell_type": "code",
   "execution_count": 8,
   "metadata": {},
   "outputs": [],
   "source": [
    "def get_flipkart_data(search = 'mobiles', pos = 1, limit=None):\n",
    "    all_data= [] \n",
    "    while True:\n",
    "        addr = get_add(search, pos)\n",
    "        driver.get(addr)\n",
    "        data = extract_data(driver)\n",
    "        if len(data):\n",
    "            all_data.extend(data)\n",
    "            pos += 1\n",
    "        else:\n",
    "            break\n",
    "    return all_data"
   ]
  },
  {
   "cell_type": "code",
   "execution_count": null,
   "metadata": {},
   "outputs": [],
   "source": []
  }
 ],
 "metadata": {
  "interpreter": {
   "hash": "d6fae5423283988a1f203f784ae9cfad4c34cb6feea49a0d1f54c80e10af6504"
  },
  "kernelspec": {
   "display_name": "Python 3.9.7 64-bit",
   "language": "python",
   "name": "python3"
  },
  "language_info": {
   "codemirror_mode": {
    "name": "ipython",
    "version": 3
   },
   "file_extension": ".py",
   "mimetype": "text/x-python",
   "name": "python",
   "nbconvert_exporter": "python",
   "pygments_lexer": "ipython3",
   "version": "3.9.7"
  },
  "orig_nbformat": 4
 },
 "nbformat": 4,
 "nbformat_minor": 2
}
